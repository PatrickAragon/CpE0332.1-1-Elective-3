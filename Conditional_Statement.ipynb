{
  "nbformat": 4,
  "nbformat_minor": 0,
  "metadata": {
    "colab": {
      "provenance": [],
      "authorship_tag": "ABX9TyPUOfB4rLIIGDcgVvLg0mhp",
      "include_colab_link": true
    },
    "kernelspec": {
      "name": "python3",
      "display_name": "Python 3"
    },
    "language_info": {
      "name": "python"
    }
  },
  "cells": [
    {
      "cell_type": "markdown",
      "metadata": {
        "id": "view-in-github",
        "colab_type": "text"
      },
      "source": [
        "<a href=\"https://colab.research.google.com/github/PatrickAragon/CpE0332.1-1-Elective-3/blob/main/Conditional_Statement.ipynb\" target=\"_parent\"><img src=\"https://colab.research.google.com/assets/colab-badge.svg\" alt=\"Open In Colab\"/></a>"
      ]
    },
    {
      "cell_type": "markdown",
      "source": [
        "If Statement"
      ],
      "metadata": {
        "id": "GcOKT0ILCubd"
      }
    },
    {
      "cell_type": "code",
      "source": [
        "a = 12\n",
        "b = 100\n",
        "\n",
        "if a<b:\n",
        "  print('a is less than b')"
      ],
      "metadata": {
        "colab": {
          "base_uri": "https://localhost:8080/"
        },
        "id": "hQrgQKAkCylR",
        "outputId": "98fc69d5-d88d-4a41-87df-2f8ae4bf103d"
      },
      "execution_count": 1,
      "outputs": [
        {
          "output_type": "stream",
          "name": "stdout",
          "text": [
            "a is less than b\n"
          ]
        }
      ]
    },
    {
      "cell_type": "markdown",
      "source": [
        "Elif Statement"
      ],
      "metadata": {
        "id": "caKL9vWqC_jE"
      }
    },
    {
      "cell_type": "code",
      "source": [
        "age = 18\n",
        "if age>=18:\n",
        "  print(\"You are qualified to get a license\")\n",
        "elif age<18:\n",
        "  print(\"You are not qualified to get license\")"
      ],
      "metadata": {
        "colab": {
          "base_uri": "https://localhost:8080/"
        },
        "id": "avxMOva2DA8I",
        "outputId": "18e7e836-9134-4400-8763-77e9a5250764"
      },
      "execution_count": null,
      "outputs": [
        {
          "output_type": "stream",
          "name": "stdout",
          "text": [
            "You are qualified to get a license\n"
          ]
        }
      ]
    },
    {
      "cell_type": "code",
      "source": [
        "print(\"Enter your age:\")\n",
        "age = int(input())\n",
        "if age>=18:\n",
        "  print(\"You are qualified to get a license\")\n",
        "elif age<18:\n",
        "  print(\"You are not qualified to get license\")"
      ],
      "metadata": {
        "colab": {
          "base_uri": "https://localhost:8080/"
        },
        "id": "shVFaNEbDRyu",
        "outputId": "dfa97353-7d5c-4a13-bf60-133b9a782559"
      },
      "execution_count": null,
      "outputs": [
        {
          "output_type": "stream",
          "name": "stdout",
          "text": [
            "Enter your age:\n",
            "17\n",
            "You are not qualified to get license\n"
          ]
        }
      ]
    },
    {
      "cell_type": "markdown",
      "source": [
        "Else Statement"
      ],
      "metadata": {
        "id": "7LAqi1gFEbY2"
      }
    },
    {
      "cell_type": "code",
      "source": [
        "print(\"Enter an integer:\")\n",
        "x = int(input())\n",
        "if x>0:\n",
        "  print(\"Positive number\")\n",
        "elif x<0:\n",
        "  print(\"Negative number\")\n",
        "else:\n",
        "  print(\"Zero\")\n"
      ],
      "metadata": {
        "colab": {
          "base_uri": "https://localhost:8080/"
        },
        "id": "xAX-dkVlEchg",
        "outputId": "02fc5ea9-7b57-4292-97c1-f3838af6b7d2"
      },
      "execution_count": null,
      "outputs": [
        {
          "output_type": "stream",
          "name": "stdout",
          "text": [
            "Enter an integer:\n",
            "3\n",
            "Positive number\n"
          ]
        }
      ]
    },
    {
      "cell_type": "markdown",
      "source": [
        "Short Hand If Statement"
      ],
      "metadata": {
        "id": "nAswlcvaF3CY"
      }
    },
    {
      "cell_type": "code",
      "source": [
        "if a<b:\n",
        "  print(\"a is less than b\")"
      ],
      "metadata": {
        "colab": {
          "base_uri": "https://localhost:8080/"
        },
        "id": "udxrD8kRF6TD",
        "outputId": "c2639f4d-ea56-4b48-98ac-c749a24130c6"
      },
      "execution_count": null,
      "outputs": [
        {
          "output_type": "stream",
          "name": "stdout",
          "text": [
            "a is less than b\n"
          ]
        }
      ]
    },
    {
      "cell_type": "markdown",
      "source": [
        "Short Hand If..Else Statement"
      ],
      "metadata": {
        "id": "dhJYSbouGBJa"
      }
    },
    {
      "cell_type": "code",
      "source": [
        "print (\"a is greater than b\") if a>b else print (\"b is greater than a\")"
      ],
      "metadata": {
        "colab": {
          "base_uri": "https://localhost:8080/"
        },
        "id": "Kx_NO2wyGIEZ",
        "outputId": "146b2d55-edee-4ee3-b611-8755e199fbc7"
      },
      "execution_count": null,
      "outputs": [
        {
          "output_type": "stream",
          "name": "stdout",
          "text": [
            "b is greater than a\n"
          ]
        }
      ]
    },
    {
      "cell_type": "markdown",
      "source": [
        "And Statement"
      ],
      "metadata": {
        "id": "5FJA4zZ2GnRx"
      }
    },
    {
      "cell_type": "code",
      "source": [
        "a = 200\n",
        "b = 33\n",
        "c = 500\n",
        "if a>b and c>a:\n",
        "  print(\"both statements are true\")"
      ],
      "metadata": {
        "id": "XZsjs3AFGoUc",
        "colab": {
          "base_uri": "https://localhost:8080/"
        },
        "outputId": "081d460a-32d1-448b-e25e-2d21c59d0f54"
      },
      "execution_count": 2,
      "outputs": [
        {
          "output_type": "stream",
          "name": "stdout",
          "text": [
            "both statements are true\n"
          ]
        }
      ]
    },
    {
      "cell_type": "markdown",
      "source": [
        "Or Statement"
      ],
      "metadata": {
        "id": "mn1ZXA2vIAB-"
      }
    },
    {
      "cell_type": "code",
      "source": [
        "if a>b or c>a:\n",
        "  print(\"both statements are true\")"
      ],
      "metadata": {
        "colab": {
          "base_uri": "https://localhost:8080/"
        },
        "id": "gSJgqwM4IE7j",
        "outputId": "277f18fd-7878-4e71-af01-7bee8587db53"
      },
      "execution_count": null,
      "outputs": [
        {
          "output_type": "stream",
          "name": "stdout",
          "text": [
            "both statements are true\n"
          ]
        }
      ]
    },
    {
      "cell_type": "markdown",
      "source": [
        "Nested If Statement"
      ],
      "metadata": {
        "id": "S8Bc19MCHpv0"
      }
    },
    {
      "cell_type": "code",
      "source": [
        "print(\"Enter an integer:\")\n",
        "x = int(input())\n",
        "\n",
        "if x>10:\n",
        "  print(\"above 10\")\n",
        "  if x>20:\n",
        "    print(\"and also above 20\")\n",
        "    if x>30:\n",
        "      print(\"and also above 30\")\n",
        "      if x>40:\n",
        "        print(\"and also above 40\")\n",
        "        if x>50:\n",
        "          print(\"and also above 50\")\n",
        "        else:\n",
        "          print(\"not above 50\")\n",
        "      else:\n",
        "        print(\"not above 40\")\n",
        "    else:\n",
        "      print(\"not above 30\")\n",
        "  else:\n",
        "    print(\"not above 20\")\n"
      ],
      "metadata": {
        "colab": {
          "base_uri": "https://localhost:8080/"
        },
        "id": "FvJ0t3OLHruj",
        "outputId": "b525f8bb-af72-4f1b-9552-70409079d877"
      },
      "execution_count": null,
      "outputs": [
        {
          "output_type": "stream",
          "name": "stdout",
          "text": [
            "Enter an integer:\n",
            "18\n",
            "above 10\n",
            "not above 20\n"
          ]
        }
      ]
    },
    {
      "cell_type": "markdown",
      "source": [
        "Application 2\n",
        "\n",
        "Write a program to determine if:\n",
        "\n",
        "grade >= 75, \"Passed\"\n",
        "\n",
        "grade = 74, \"Remedial\"\n",
        "\n",
        "grade < 74, \"Failed\"\n",
        "\n",
        "Note: If grade is a negative number, it will not be accepted."
      ],
      "metadata": {
        "id": "IGzhFnd4jf2N"
      }
    },
    {
      "cell_type": "code",
      "source": [
        "# Simple program to determine the status based on grade\n",
        "\n",
        "# Input the grade\n",
        "while True:\n",
        "    grade = float(input(\"Enter your grade: \"))\n",
        "    if grade >= 0:\n",
        "        break\n",
        "    else:\n",
        "        print(\"Invalid input. Please enter a non-negative grade.\")\n",
        "\n",
        "# Determine the status\n",
        "if grade >= 75:\n",
        "    status = \"Passed\"\n",
        "elif grade == 74:\n",
        "    status = \"Remedial\"\n",
        "else:\n",
        "    status = \"Failed\"\n",
        "\n",
        "# Display the status\n",
        "print(\"\\n--- Grade Status ---\")\n",
        "print(\"Grade:\", grade)\n",
        "print(\"Status:\", status)\n"
      ],
      "metadata": {
        "colab": {
          "base_uri": "https://localhost:8080/"
        },
        "id": "xupf7OoIjhI3",
        "outputId": "f509e934-c988-4e01-e6b8-089be0658abb"
      },
      "execution_count": 4,
      "outputs": [
        {
          "output_type": "stream",
          "name": "stdout",
          "text": [
            "Enter your grade: 97\n",
            "\n",
            "--- Grade Status ---\n",
            "Grade: 97.0\n",
            "Status: Passed\n"
          ]
        }
      ]
    }
  ]
}