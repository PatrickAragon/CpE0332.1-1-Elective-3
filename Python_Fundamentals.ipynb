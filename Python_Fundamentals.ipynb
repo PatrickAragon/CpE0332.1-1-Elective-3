{
  "nbformat": 4,
  "nbformat_minor": 0,
  "metadata": {
    "colab": {
      "provenance": [],
      "authorship_tag": "ABX9TyNFmr1mQ51VU9/GJN73bsPt",
      "include_colab_link": true
    },
    "kernelspec": {
      "name": "python3",
      "display_name": "Python 3"
    },
    "language_info": {
      "name": "python"
    }
  },
  "cells": [
    {
      "cell_type": "markdown",
      "metadata": {
        "id": "view-in-github",
        "colab_type": "text"
      },
      "source": [
        "<a href=\"https://colab.research.google.com/github/patrick-aragon/CpE0332.1-1-Elective-3/blob/main/Python_Fundamentals.ipynb\" target=\"_parent\"><img src=\"https://colab.research.google.com/assets/colab-badge.svg\" alt=\"Open In Colab\"/></a>"
      ]
    },
    {
      "cell_type": "markdown",
      "source": [
        "Python Indentation"
      ],
      "metadata": {
        "id": "oNEFBbmg_EHx"
      }
    },
    {
      "cell_type": "code",
      "source": [
        "if 5>2:\n",
        "  print(\"Five is greater than two!\")"
      ],
      "metadata": {
        "colab": {
          "base_uri": "https://localhost:8080/"
        },
        "id": "K7B7Bb_-_N5h",
        "outputId": "3ccaea23-bc43-44d2-f10e-9e22a8fb44e1"
      },
      "execution_count": null,
      "outputs": [
        {
          "output_type": "stream",
          "name": "stdout",
          "text": [
            "Five is greater than two\n"
          ]
        }
      ]
    },
    {
      "cell_type": "markdown",
      "source": [
        "Python Comment\n"
      ],
      "metadata": {
        "id": "gmw1GlfsAY1x"
      }
    },
    {
      "cell_type": "code",
      "source": [
        "#This is a comment\n",
        "print(\"Hello, world\")"
      ],
      "metadata": {
        "colab": {
          "base_uri": "https://localhost:8080/"
        },
        "id": "4VpMyu_0Ablm",
        "outputId": "31d3e960-aca7-4357-bc2d-5df5f13347df"
      },
      "execution_count": null,
      "outputs": [
        {
          "output_type": "stream",
          "name": "stdout",
          "text": [
            "Hello, world\n"
          ]
        }
      ]
    },
    {
      "cell_type": "markdown",
      "source": [
        "Python Variable"
      ],
      "metadata": {
        "id": "A0mLeOvSAliY"
      }
    },
    {
      "cell_type": "code",
      "source": [
        "x = 1\n",
        "a,b = 0,-1\n",
        "a,b,c = 0,-1,2\n",
        "b"
      ],
      "metadata": {
        "colab": {
          "base_uri": "https://localhost:8080/"
        },
        "id": "xxEmihBvAnxB",
        "outputId": "15a5083a-8a39-4ad7-a1ad-f92b5ee2587c"
      },
      "execution_count": null,
      "outputs": [
        {
          "output_type": "execute_result",
          "data": {
            "text/plain": [
              "-1"
            ]
          },
          "metadata": {},
          "execution_count": 3
        }
      ]
    },
    {
      "cell_type": "markdown",
      "source": [
        "Casting"
      ],
      "metadata": {
        "id": "acDJ8K14Ax_j"
      }
    },
    {
      "cell_type": "code",
      "source": [
        "b = \"sally\" #This is a type of string\n",
        "b = int(4)\n",
        "b"
      ],
      "metadata": {
        "colab": {
          "base_uri": "https://localhost:8080/"
        },
        "id": "T6ewuCU3A1Q6",
        "outputId": "99ad613f-0986-4c92-d750-29fd4620b108"
      },
      "execution_count": null,
      "outputs": [
        {
          "output_type": "execute_result",
          "data": {
            "text/plain": [
              "4"
            ]
          },
          "metadata": {},
          "execution_count": 8
        }
      ]
    },
    {
      "cell_type": "code",
      "source": [
        "b = float(4)\n",
        "b"
      ],
      "metadata": {
        "colab": {
          "base_uri": "https://localhost:8080/"
        },
        "id": "NdbN3oSQBNC3",
        "outputId": "3f8b6ef7-4833-44ad-8fb1-81a9ea5196f8"
      },
      "execution_count": null,
      "outputs": [
        {
          "output_type": "execute_result",
          "data": {
            "text/plain": [
              "4.0"
            ]
          },
          "metadata": {},
          "execution_count": 9
        }
      ]
    },
    {
      "cell_type": "markdown",
      "source": [
        "Type() Function"
      ],
      "metadata": {
        "id": "457qyGH3BUKl"
      }
    },
    {
      "cell_type": "code",
      "source": [
        "x = 5\n",
        "y = 'John'\n",
        "print(type(x))\n",
        "print(type(y))"
      ],
      "metadata": {
        "colab": {
          "base_uri": "https://localhost:8080/"
        },
        "id": "fZ4i9l-YBWw7",
        "outputId": "470a353a-7e7c-472f-b231-97a8e6e6622f"
      },
      "execution_count": null,
      "outputs": [
        {
          "output_type": "stream",
          "name": "stdout",
          "text": [
            "<class 'int'>\n",
            "<class 'str'>\n"
          ]
        }
      ]
    },
    {
      "cell_type": "markdown",
      "source": [
        "Double Quotes and Single Quotes"
      ],
      "metadata": {
        "id": "ugGIIFGuXruR"
      }
    },
    {
      "cell_type": "code",
      "source": [
        "w = \"Ana\"\n",
        "print(w)\n",
        "q = 'Ana'\n",
        "print(q)"
      ],
      "metadata": {
        "colab": {
          "base_uri": "https://localhost:8080/"
        },
        "id": "B1rjCPVeXus5",
        "outputId": "5766f8e9-0f44-4eb8-85b1-074f66bfe0af"
      },
      "execution_count": 1,
      "outputs": [
        {
          "output_type": "stream",
          "name": "stdout",
          "text": [
            "Ana\n",
            "Ana\n"
          ]
        }
      ]
    },
    {
      "cell_type": "markdown",
      "source": [
        "Case Sensitive"
      ],
      "metadata": {
        "id": "xvN14d0_X03q"
      }
    },
    {
      "cell_type": "code",
      "source": [
        "a = 4\n",
        "A = \"Sally\"\n",
        "print(a)\n",
        "print(A)"
      ],
      "metadata": {
        "colab": {
          "base_uri": "https://localhost:8080/"
        },
        "id": "TqYiBWZnX3DI",
        "outputId": "a7e59e42-0b88-47ac-b404-a7d3b19b1f65"
      },
      "execution_count": 2,
      "outputs": [
        {
          "output_type": "stream",
          "name": "stdout",
          "text": [
            "4\n",
            "Sally\n"
          ]
        }
      ]
    },
    {
      "cell_type": "markdown",
      "source": [
        "Multiple Variables"
      ],
      "metadata": {
        "id": "ncszZ9DOX_r_"
      }
    },
    {
      "cell_type": "code",
      "source": [
        "h,i,j=\"one\",\"two\",\"three\"\n",
        "print(h)\n",
        "print(i)\n",
        "print(j)"
      ],
      "metadata": {
        "colab": {
          "base_uri": "https://localhost:8080/"
        },
        "id": "0PTAxulgYBxs",
        "outputId": "e8c2215c-4375-460f-c230-2ffb52af4c11"
      },
      "execution_count": 3,
      "outputs": [
        {
          "output_type": "stream",
          "name": "stdout",
          "text": [
            "one\n",
            "two\n",
            "three\n"
          ]
        }
      ]
    },
    {
      "cell_type": "markdown",
      "source": [
        "Multiple Variables with Single Value"
      ],
      "metadata": {
        "id": "mXmx-O25YTY4"
      }
    },
    {
      "cell_type": "code",
      "source": [
        "k=l=m=\"four\"\n",
        "print(k)\n",
        "print(l)\n",
        "print(m)\n"
      ],
      "metadata": {
        "colab": {
          "base_uri": "https://localhost:8080/"
        },
        "id": "VI7iFZ70YVYO",
        "outputId": "7fadb0be-549f-4ce2-d7e5-d2ba08028c6d"
      },
      "execution_count": 4,
      "outputs": [
        {
          "output_type": "stream",
          "name": "stdout",
          "text": [
            "four\n",
            "four\n",
            "four\n"
          ]
        }
      ]
    },
    {
      "cell_type": "markdown",
      "source": [
        "Output Variable and Concatenation +"
      ],
      "metadata": {
        "id": "qoH0-q3ZYse9"
      }
    },
    {
      "cell_type": "code",
      "source": [
        "n = \"enjoying\"\n",
        "print(\"Python programming is \" + n)"
      ],
      "metadata": {
        "colab": {
          "base_uri": "https://localhost:8080/"
        },
        "id": "Oh_bR1GGY0rN",
        "outputId": "0bf50ec4-a609-44f8-bb00-bc2820b88285"
      },
      "execution_count": 5,
      "outputs": [
        {
          "output_type": "stream",
          "name": "stdout",
          "text": [
            "Python programming is enjoying\n"
          ]
        }
      ]
    },
    {
      "cell_type": "code",
      "source": [
        "n = \"enjoying\"\n",
        "p = \"Python programming is \"\n",
        "print(p + n)"
      ],
      "metadata": {
        "colab": {
          "base_uri": "https://localhost:8080/"
        },
        "id": "ZYgN6rO_ZGi3",
        "outputId": "c41b64b4-866e-4d87-a3f9-f377a48fc74c"
      },
      "execution_count": 6,
      "outputs": [
        {
          "output_type": "stream",
          "name": "stdout",
          "text": [
            "Python programming is enjoying\n"
          ]
        }
      ]
    },
    {
      "cell_type": "markdown",
      "source": [
        "Arithmetic Operations"
      ],
      "metadata": {
        "id": "C6J4XvdBBmUm"
      }
    },
    {
      "cell_type": "code",
      "source": [
        "x = 3\n",
        "y = 2\n",
        "print(x+y)"
      ],
      "metadata": {
        "colab": {
          "base_uri": "https://localhost:8080/"
        },
        "id": "WZNUfNpzBoJC",
        "outputId": "0eb6c6f3-40ad-4722-dbb9-ce820e8e830a"
      },
      "execution_count": 16,
      "outputs": [
        {
          "output_type": "stream",
          "name": "stdout",
          "text": [
            "5\n"
          ]
        }
      ]
    },
    {
      "cell_type": "code",
      "source": [
        "x = 3\n",
        "y = 2\n",
        "print(x+y) #Addition\n",
        "print(x-y) #Subtraction\n",
        "print(x*y) #Multiplication\n",
        "print(x/y) #Division\n",
        "print(x%y) #Modulus\n",
        "print(x**y) #Exponent\n",
        "print(x//y) #Floor Division"
      ],
      "metadata": {
        "colab": {
          "base_uri": "https://localhost:8080/"
        },
        "id": "cf5OweCTbFAH",
        "outputId": "42a9ed13-e28f-41bc-a583-02140f7a822e"
      },
      "execution_count": 18,
      "outputs": [
        {
          "output_type": "stream",
          "name": "stdout",
          "text": [
            "5\n",
            "1\n",
            "6\n",
            "1.5\n",
            "1\n",
            "9\n",
            "1\n"
          ]
        }
      ]
    },
    {
      "cell_type": "code",
      "source": [
        "sum = x+y\n",
        "sum"
      ],
      "metadata": {
        "colab": {
          "base_uri": "https://localhost:8080/"
        },
        "id": "bm7buFZuBtgc",
        "outputId": "f43ec1a0-ffe2-45f4-b669-bf530e4e592d"
      },
      "execution_count": 19,
      "outputs": [
        {
          "output_type": "execute_result",
          "data": {
            "text/plain": [
              "5"
            ]
          },
          "metadata": {},
          "execution_count": 19
        }
      ]
    },
    {
      "cell_type": "markdown",
      "source": [
        "Assignment Operator"
      ],
      "metadata": {
        "id": "pn_k-GIbaS_R"
      }
    },
    {
      "cell_type": "code",
      "source": [
        "x+=3 #same as x=x+3\n",
        "x"
      ],
      "metadata": {
        "colab": {
          "base_uri": "https://localhost:8080/"
        },
        "id": "_3NfZRg9b_Ox",
        "outputId": "2416d3fa-089d-4654-e379-73b14b78db5a"
      },
      "execution_count": 20,
      "outputs": [
        {
          "output_type": "execute_result",
          "data": {
            "text/plain": [
              "6"
            ]
          },
          "metadata": {},
          "execution_count": 20
        }
      ]
    },
    {
      "cell_type": "markdown",
      "source": [
        "Comparison Operator"
      ],
      "metadata": {
        "id": "z_-bDt9icY2v"
      }
    },
    {
      "cell_type": "code",
      "source": [
        "print(x==y) #x=3,y=2\n",
        "print(x!=y)\n",
        "print(x>y)\n",
        "print(x<y)\n",
        "print(x>=y)\n",
        "print(x<=y)"
      ],
      "metadata": {
        "colab": {
          "base_uri": "https://localhost:8080/"
        },
        "id": "r8mRR_w0cbLk",
        "outputId": "9115dd4a-534d-4700-ae19-22f492c4a332"
      },
      "execution_count": 23,
      "outputs": [
        {
          "output_type": "stream",
          "name": "stdout",
          "text": [
            "False\n",
            "True\n",
            "True\n",
            "False\n",
            "True\n",
            "False\n"
          ]
        }
      ]
    },
    {
      "cell_type": "markdown",
      "source": [
        "Logical Operators"
      ],
      "metadata": {
        "id": "h1Ej9rL4c_HT"
      }
    },
    {
      "cell_type": "code",
      "source": [
        "print(x==y and x!=y) #False and True\n",
        "print(x==y or x!=y) #False or True\n",
        "print(not(x==y or x!=y)) #Negate(False or True)"
      ],
      "metadata": {
        "colab": {
          "base_uri": "https://localhost:8080/"
        },
        "id": "mxn6geaLdBO0",
        "outputId": "0d7b581e-3ecf-44ed-800a-afeaea2286b2"
      },
      "execution_count": 26,
      "outputs": [
        {
          "output_type": "stream",
          "name": "stdout",
          "text": [
            "False\n",
            "True\n",
            "False\n"
          ]
        }
      ]
    },
    {
      "cell_type": "markdown",
      "source": [
        "Identity Operators"
      ],
      "metadata": {
        "id": "1Nb3xKQDdrhV"
      }
    },
    {
      "cell_type": "code",
      "source": [
        "print(x is y) #False\n",
        "print(x is not y) #True"
      ],
      "metadata": {
        "colab": {
          "base_uri": "https://localhost:8080/"
        },
        "id": "gklx5wq0duPA",
        "outputId": "175caa27-f991-480f-e113-649ff9f886fe"
      },
      "execution_count": 28,
      "outputs": [
        {
          "output_type": "stream",
          "name": "stdout",
          "text": [
            "False\n",
            "True\n"
          ]
        }
      ]
    },
    {
      "cell_type": "markdown",
      "source": [
        "Bitwise Operators"
      ],
      "metadata": {
        "id": "jonHfFmRd47o"
      }
    },
    {
      "cell_type": "code",
      "source": [
        "#10 +1 = 11   ; 1010 + 0001 = 1011\n",
        "print(10 | 1) #0000 1010\n",
        "print(10 & 1) #0000 0000\n",
        "print(10 ^ 1) #0000 1011\n",
        "print(~10) #1111 0101\n",
        "print(10 << 1) #0010 1010\n",
        "print(10 >> 1) #0001 0101\n",
        "print(10 >> 2) #0000\n",
        "print(10 >> 3) #0"
      ],
      "metadata": {
        "colab": {
          "base_uri": "https://localhost:8080/"
        },
        "id": "JvlnxmF3d64z",
        "outputId": "ba8dfa3f-6e5a-41dc-f41e-95612050126e"
      },
      "execution_count": 30,
      "outputs": [
        {
          "output_type": "stream",
          "name": "stdout",
          "text": [
            "11\n",
            "0\n",
            "11\n",
            "-11\n",
            "20\n",
            "5\n",
            "2\n",
            "1\n"
          ]
        }
      ]
    },
    {
      "cell_type": "markdown",
      "source": [
        "Application 1"
      ],
      "metadata": {
        "id": "RKYLtsn6fDH_"
      }
    },
    {
      "cell_type": "code",
      "source": [
        "#Create a python program that displays your Fullname, Age, Course and Section\n",
        "\n",
        "# Input the information\n",
        "fullname = input(\"Enter your fullname: \")\n",
        "\n",
        "while True:\n",
        "    age = input(\"Enter your age: \")\n",
        "    if age.isdigit() and int(age) > 0:\n",
        "        age = int(age)\n",
        "        break\n",
        "    else:\n",
        "        print(\"Invalid input. Please enter a positive number for age.\")\n",
        "\n",
        "course = input(\"Enter your course: \")\n",
        "section = input(\"Enter your section: \")\n",
        "\n",
        "# Display the information\n",
        "print(\"\\n--- Displaying Information ---\")\n",
        "print(\"Fullname: \", fullname)\n",
        "print(\"Age: \", age)\n",
        "print(\"Course: \", course)\n",
        "print(\"Section: \", section)\n"
      ],
      "metadata": {
        "colab": {
          "base_uri": "https://localhost:8080/"
        },
        "id": "msxXdNRTfGdp",
        "outputId": "f01e494e-8966-4670-f048-23ff821e3e51"
      },
      "execution_count": 35,
      "outputs": [
        {
          "output_type": "stream",
          "name": "stdout",
          "text": [
            "Enter your fullname: Patrick Laurence M. Aragon\n",
            "Enter your age: 21\n",
            "Enter your course: BS Computer Engineering\n",
            "Enter your section: 3-1\n",
            "\n",
            "--- Displaying Information ---\n",
            "Fullname:  Patrick Laurence M. Aragon\n",
            "Age:  21\n",
            "Course:  BS Computer Engineering\n",
            "Section:  3-1\n"
          ]
        }
      ]
    }
  ]
}